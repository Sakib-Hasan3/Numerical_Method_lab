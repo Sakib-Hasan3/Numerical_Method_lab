{
 "cells": [
  {
   "cell_type": "code",
   "execution_count": 12,
   "id": "075979e3",
   "metadata": {},
   "outputs": [],
   "source": [
    "import numpy as np"
   ]
  },
  {
   "cell_type": "code",
   "execution_count": 13,
   "id": "32a8db02",
   "metadata": {},
   "outputs": [],
   "source": [
    "# Augmented matrix [A | b]\n",
    "\n",
    "matrix = np.array([\n",
    "    [ 2,  3, -1,  5],\n",
    "    [-1,  7,  2,  3],\n",
    "    [ 4, -5,  1, -2]\n",
    "], dtype=float)\n",
    "\n",
    "n = len(matrix)"
   ]
  },
  {
   "cell_type": "code",
   "execution_count": 14,
   "id": "0728b582",
   "metadata": {},
   "outputs": [
    {
     "name": "stdout",
     "output_type": "stream",
     "text": [
      "Original matrix:\n",
      "[[ 2.  3. -1.  5.]\n",
      " [-1.  7.  2.  3.]\n",
      " [ 4. -5.  1. -2.]]\n"
     ]
    }
   ],
   "source": [
    "print(\"Original matrix:\")\n",
    "print(matrix)"
   ]
  },
  {
   "cell_type": "code",
   "execution_count": 15,
   "id": "9988610b",
   "metadata": {},
   "outputs": [],
   "source": [
    "# Forward Elimination\n",
    "\n",
    "for i in range(n):\n",
    "    # Make the diagonal element 1\n",
    "    matrix[i] = matrix[i] / matrix[i][i]\n",
    "    for j in range(i+1, n):\n",
    "        matrix[j] = matrix[j] - matrix[j][i] * matrix[i]\n"
   ]
  },
  {
   "cell_type": "code",
   "execution_count": 16,
   "id": "c0fae82a",
   "metadata": {},
   "outputs": [
    {
     "name": "stdout",
     "output_type": "stream",
     "text": [
      "Matrix after forward elimination:\n",
      "[[ 1.          1.5        -0.5         2.5       ]\n",
      " [ 0.          1.          0.17647059  0.64705882]\n",
      " [ 0.          0.          1.         -0.98809524]]\n"
     ]
    }
   ],
   "source": [
    "print(\"Matrix after forward elimination:\")\n",
    "print(matrix)"
   ]
  },
  {
   "cell_type": "code",
   "execution_count": 17,
   "id": "9d1eeda7",
   "metadata": {},
   "outputs": [],
   "source": [
    "# Back Substitution\n",
    "\n",
    "x = np.zeros(n)\n",
    "for i in range(n-1, -1, -1):\n",
    "    x[i] = matrix[i][-1] - sum(matrix[i][j] * x[j] for j in range(i+1, n))"
   ]
  },
  {
   "cell_type": "code",
   "execution_count": 18,
   "id": "aa32815e",
   "metadata": {},
   "outputs": [
    {
     "name": "stdout",
     "output_type": "stream",
     "text": [
      "x = 0.77\n",
      "y = 0.82\n",
      "z = -0.99\n"
     ]
    }
   ],
   "source": [
    "# Print results\n",
    "variables = ['x', 'y', 'z']\n",
    "for var, val in zip(variables, x):\n",
    "    print(f\"{var} = {val:.2f}\")"
   ]
  },
  {
   "cell_type": "code",
   "execution_count": null,
   "id": "5c939318",
   "metadata": {},
   "outputs": [],
   "source": []
  },
  {
   "cell_type": "code",
   "execution_count": null,
   "id": "5d3c6cc5",
   "metadata": {},
   "outputs": [],
   "source": []
  }
 ],
 "metadata": {
  "kernelspec": {
   "display_name": "base",
   "language": "python",
   "name": "python3"
  },
  "language_info": {
   "codemirror_mode": {
    "name": "ipython",
    "version": 3
   },
   "file_extension": ".py",
   "mimetype": "text/x-python",
   "name": "python",
   "nbconvert_exporter": "python",
   "pygments_lexer": "ipython3",
   "version": "3.12.7"
  }
 },
 "nbformat": 4,
 "nbformat_minor": 5
}
